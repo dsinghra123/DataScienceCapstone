{
    "nbformat_minor": 1, 
    "cells": [
        {
            "source": "# Capstone Project - The Battle of Neighborhoods (Week 1)", 
            "cell_type": "markdown", 
            "metadata": {}
        }, 
        {
            "source": "## Introduction", 
            "cell_type": "markdown", 
            "metadata": {
                "collapsed": true
            }
        }, 
        {
            "source": "### Background", 
            "cell_type": "markdown", 
            "metadata": {}
        }, 
        {
            "source": "*New York City's demographics show that it is a large and ethnically diverse metropolis. It is the largest city in the United States with a long history of international immigration. New York City was home to nearly 8.5 million people in 2014, accounting for over 40% of the population of New York State and a slightly lower percentage of the New York metropolitan area, home to approximately 23.6 million. Over the last decade the city has been growing faster than the region. The New York region continues to be by far the leading metropolitan gateway for legal immigrants admitted into the United States.*\n\n *Throughout its history, New York City has been a major point of entry for immigrants; the term \"melting pot\" was coined to describe densely populated immigrant neighborhoods on the Lower East Side. As many as 800 languages are spoken in New York,making it the most linguistically diverse city in the world. English remains the most widely spoken language, although there are areas in the outer boroughs in which up to 25% of people speak English as an alternate language, and/or have limited or no English language fluency. English is least spoken in neighborhoods such as Flushing, Sunset Park, and Corona.*\n\n*Due to it's diversity, here are different kinds of restaurants in New York city which offers different cuisines. Italian, chinese, Indian, Mediterranin to name a few.*", 
            "cell_type": "markdown", 
            "metadata": {}
        }, 
        {
            "source": "### Business Problem", 
            "cell_type": "markdown", 
            "metadata": {}
        }, 
        {
            "source": " *The business problem we are currently posing is: how could we provide support to different people to list and visualise all major parts of New York City that has great Chinese restaurants?*", 
            "cell_type": "markdown", 
            "metadata": {}
        }, 
        {
            "source": "###### Reference: (https://en.wikipedia.org/wiki/Demographics_of_New_York_City)", 
            "cell_type": "markdown", 
            "metadata": {}
        }, 
        {
            "execution_count": null, 
            "cell_type": "code", 
            "metadata": {}, 
            "outputs": [], 
            "source": ""
        }
    ], 
    "metadata": {
        "kernelspec": {
            "display_name": "Python 3.6", 
            "name": "python3", 
            "language": "python"
        }, 
        "language_info": {
            "mimetype": "text/x-python", 
            "nbconvert_exporter": "python", 
            "version": "3.6.8", 
            "name": "python", 
            "file_extension": ".py", 
            "pygments_lexer": "ipython3", 
            "codemirror_mode": {
                "version": 3, 
                "name": "ipython"
            }
        }
    }, 
    "nbformat": 4
}